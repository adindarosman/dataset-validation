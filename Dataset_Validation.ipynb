{
  "nbformat": 4,
  "nbformat_minor": 0,
  "metadata": {
    "colab": {
      "provenance": [],
      "collapsed_sections": []
    },
    "kernelspec": {
      "name": "python3",
      "display_name": "Python 3"
    },
    "language_info": {
      "name": "python"
    }
  },
  "cells": [
    {
      "cell_type": "code",
      "metadata": {
        "id": "E_M-pdeAwkEC"
      },
      "source": [
        "import pandas\n",
        "url = \"https://archive.ics.uci.edu/ml/machine-learning-databases/haberman/haberman.data\"\n",
        "names = ['A','B','C','D']\n",
        "dataset = pandas.read_csv(url,names=names)"
      ],
      "execution_count": null,
      "outputs": []
    },
    {
      "cell_type": "code",
      "metadata": {
        "id": "6LNnaIrTw9rh"
      },
      "source": [
        "from sklearn import model_selection\n",
        "#split-out validation dataset\n",
        "array = dataset.values\n",
        "X = array[:,0:3]\n",
        "Y = array[:,3]\n",
        "validation_size = 0.20\n",
        "seed = 7\n",
        "X_train, X_validation, Y_train, Y_validation = \n",
        "model_selection.train_test_split(X, Y, \n",
        "test_size=validation_size,random_state=seed)"
      ],
      "execution_count": null,
      "outputs": []
    },
    {
      "cell_type": "code",
      "metadata": {
        "id": "4XSFAZ4exBnK"
      },
      "source": [
        "#Test options and evaluation metric\n",
        "seed = 7 \n",
        "scoring = 'accuracy'"
      ],
      "execution_count": null,
      "outputs": []
    },
    {
      "cell_type": "code",
      "metadata": {
        "id": "HmfANPL5xCMe"
      },
      "source": [
        "from sklearn.neighbors import KNeighborsClassifier\n",
        "from sklearn.naive_bayes import GaussianNB\n",
        "from sklearn.svm import SVC\n",
        "#Spot Check Algorithms\n",
        "models = []\n",
        "models.append(('KNN', KNeighborsClassifier()))\n",
        "models.append(('NB', GaussianNB()))\n",
        "models.append(('SVM', SVC()))"
      ],
      "execution_count": null,
      "outputs": []
    },
    {
      "cell_type": "code",
      "metadata": {
        "colab": {
          "base_uri": "https://localhost:8080/"
        },
        "id": "dZb1JEC4xFxX",
        "outputId": "b4a2fdc7-5135-47ac-fa7c-1899fa694424"
      },
      "source": [
        "#evaluate each model in turn\n",
        "results = []\n",
        "names = []\n",
        "for name, model in models:\n",
        "  kfold = model_selection.KFold(n_splits=10, random_state=seed, shuffle=True)\n",
        "  cv_results = model_selection.cross_val_score(model, X_train, Y_train, cv=kfold, scoring=scoring)\n",
        "  results.append(cv_results)\n",
        "  names.append(name)\n",
        "  msg = \"%s: %f (%f)\" % (name, cv_results.mean(), cv_results.std())\n",
        "  print(msg)"
      ],
      "execution_count": null,
      "outputs": [
        {
          "output_type": "stream",
          "name": "stdout",
          "text": [
            "KNN: 0.742333 (0.098187)\n",
            "NB: 0.758500 (0.077372)\n",
            "SVM: 0.730333 (0.098398)\n"
          ]
        }
      ]
    },
    {
      "cell_type": "code",
      "metadata": {
        "colab": {
          "base_uri": "https://localhost:8080/"
        },
        "id": "B7nDxNr2xHsy",
        "outputId": "65b333fd-b7a0-40c2-cb7c-2a084b79b599"
      },
      "source": [
        "from sklearn.metrics import accuracy_score,confusion_matrix, classification_report\n",
        "#Make precdictions on validation dataset\n",
        "svm = GaussianNB()\n",
        "svm.fit(X_train, Y_train)\n",
        "predictions = svm.predict(X_validation)\n",
        "print(accuracy_score(Y_validation, predictions))\n",
        "print(confusion_matrix(Y_validation, predictions))\n",
        "print(classification_report(Y_validation, predictions))"
      ],
      "execution_count": null,
      "outputs": [
        {
          "output_type": "stream",
          "name": "stdout",
          "text": [
            "0.6935483870967742\n",
            "[[42  3]\n",
            " [16  1]]\n",
            "              precision    recall  f1-score   support\n",
            "\n",
            "           1       0.72      0.93      0.82        45\n",
            "           2       0.25      0.06      0.10        17\n",
            "\n",
            "    accuracy                           0.69        62\n",
            "   macro avg       0.49      0.50      0.46        62\n",
            "weighted avg       0.59      0.69      0.62        62\n",
            "\n"
          ]
        }
      ]
    }
  ]
}